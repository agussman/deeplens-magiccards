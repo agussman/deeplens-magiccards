{
 "cells": [
  {
   "cell_type": "code",
   "execution_count": 2,
   "metadata": {
    "collapsed": true
   },
   "outputs": [],
   "source": [
    "# Let's start by retrieving some Magic card images using the Scryfall API\n",
    "# https://scryfall.com/docs/api\n",
    "# We'll be using the Scryfall python library\n",
    "# https://github.com/NandaScott/Scrython"
   ]
  },
  {
   "cell_type": "code",
   "execution_count": 85,
   "metadata": {},
   "outputs": [],
   "source": [
    "import requests\n",
    "from requests.exceptions import TooManyRedirects, ReadTimeout, ConnectionError\n",
    "import json\n",
    "import pprint\n",
    "import time\n",
    "import shutil\n",
    "import os\n",
    "import os.path\n",
    "\n",
    "URL='https://api.scryfall.com'\n",
    "OUTDIR='/Users/agussman/Documents/DeepLens/deeplens-magiccards/data'\n"
   ]
  },
  {
   "cell_type": "code",
   "execution_count": null,
   "metadata": {},
   "outputs": [],
   "source": [
    "r = requests.get('https://api.scryfall.com/cards/search?order=set&q=e:dom')"
   ]
  },
  {
   "cell_type": "code",
   "execution_count": 45,
   "metadata": {},
   "outputs": [
    {
     "name": "stdout",
     "output_type": "stream",
     "text": [
      "/Users/agussman/Documents/DeepLens/deeplens-magiccards/data/dom/dom_001.png\n",
      "https://img.scryfall.com/cards/png/en/dom/1.png?1524789999 -> /Users/agussman/Documents/DeepLens/deeplens-magiccards/data/dom/dom_001.png\n",
      "/Users/agussman/Documents/DeepLens/deeplens-magiccards/data/dom/dom_002.png\n",
      "https://img.scryfall.com/cards/png/en/dom/2.png?1525862131 -> /Users/agussman/Documents/DeepLens/deeplens-magiccards/data/dom/dom_002.png\n",
      "/Users/agussman/Documents/DeepLens/deeplens-magiccards/data/dom/dom_003.png\n",
      "https://img.scryfall.com/cards/png/en/dom/3.png?1525862133 -> /Users/agussman/Documents/DeepLens/deeplens-magiccards/data/dom/dom_003.png\n",
      "/Users/agussman/Documents/DeepLens/deeplens-magiccards/data/dom/dom_004.png\n",
      "https://img.scryfall.com/cards/png/en/dom/4.png?1524790027 -> /Users/agussman/Documents/DeepLens/deeplens-magiccards/data/dom/dom_004.png\n",
      "/Users/agussman/Documents/DeepLens/deeplens-magiccards/data/dom/dom_005.png\n",
      "https://img.scryfall.com/cards/png/en/dom/5.png?1528770903 -> /Users/agussman/Documents/DeepLens/deeplens-magiccards/data/dom/dom_005.png\n",
      "/Users/agussman/Documents/DeepLens/deeplens-magiccards/data/dom/dom_006.png\n",
      "https://img.scryfall.com/cards/png/en/dom/6.png?1525141989 -> /Users/agussman/Documents/DeepLens/deeplens-magiccards/data/dom/dom_006.png\n",
      "/Users/agussman/Documents/DeepLens/deeplens-magiccards/data/dom/dom_007.png\n",
      "https://img.scryfall.com/cards/png/en/dom/7.png?1525862134 -> /Users/agussman/Documents/DeepLens/deeplens-magiccards/data/dom/dom_007.png\n",
      "/Users/agussman/Documents/DeepLens/deeplens-magiccards/data/dom/dom_008.png\n",
      "https://img.scryfall.com/cards/png/en/dom/8.png?1524790067 -> /Users/agussman/Documents/DeepLens/deeplens-magiccards/data/dom/dom_008.png\n",
      "/Users/agussman/Documents/DeepLens/deeplens-magiccards/data/dom/dom_009.png\n",
      "https://img.scryfall.com/cards/png/en/dom/9.png?1526413084 -> /Users/agussman/Documents/DeepLens/deeplens-magiccards/data/dom/dom_009.png\n",
      "/Users/agussman/Documents/DeepLens/deeplens-magiccards/data/dom/dom_010.png\n",
      "https://img.scryfall.com/cards/png/en/dom/10.png?1525862305 -> /Users/agussman/Documents/DeepLens/deeplens-magiccards/data/dom/dom_010.png\n"
     ]
    }
   ],
   "source": [
    "results = r.json()['data']\n",
    "for result in results[:10]:\n",
    "    #card = result\n",
    "    #if 'all_parts' in result\n",
    "    #print(result['image_uris']['png'])\n",
    "    time.sleep(0.25)\n",
    "    image_url = result['image_uris']['png']\n",
    "    filename = \"{}_{num:03d}.png\".format(result['set'], num=int(result['collector_number']))\n",
    "    filename = os.path.join(OUTDIR, result['set'], filename)\n",
    "    print(filename)\n",
    "    print(\"{} -> {}\".format(image_url, filename))\n",
    "    \n",
    "    r = requests.get(image_url, stream=True)\n",
    "    \n",
    "    with open(filename, 'wb') as fd:\n",
    "        for chunk in r.iter_content(chunk_size=128):\n",
    "            fd.write(chunk)\n",
    "    \n",
    "    '''\n",
    "    if r.status_code == 200:\n",
    "        with open(os.path.join(OUTDIR, result['set'], filename), 'wb') as out_file:\n",
    "            shutil.copyfileobj(response.raw(), out_file)\n",
    "    else:\n",
    "        print(\"Nope. {}\".format(response.status_code))\n",
    "    '''\n",
    "    \n",
    "    \n",
    "#pprint.pprint(results[0:2])"
   ]
  },
  {
   "cell_type": "code",
   "execution_count": null,
   "metadata": {},
   "outputs": [],
   "source": []
  },
  {
   "cell_type": "code",
   "execution_count": 73,
   "metadata": {},
   "outputs": [],
   "source": [
    "# Next let's download some pictures of tables\n",
    "table_list_url = 'http://image-net.org/api/text/imagenet.synset.geturls?wnid=n03201035'\n",
    "r = requests.get(table_list_url)\n",
    "\n",
    "file_urls = r.text.splitlines()"
   ]
  },
  {
   "cell_type": "code",
   "execution_count": 86,
   "metadata": {},
   "outputs": [
    {
     "name": "stdout",
     "output_type": "stream",
     "text": [
      "0 http://farm3.static.flickr.com/2147/2346955347_6a505656d0.jpg\n",
      "/Users/agussman/Documents/DeepLens/deeplens-magiccards/data/tables/000_2346955347_6a505656d0.jpg\n",
      "http://farm3.static.flickr.com/2147/2346955347_6a505656d0.jpg -> /Users/agussman/Documents/DeepLens/deeplens-magiccards/data/tables/000_2346955347_6a505656d0.jpg\n",
      "1 http://furniturefromhome.com/images/store/554417/760x600/image.jpg\n",
      "/Users/agussman/Documents/DeepLens/deeplens-magiccards/data/tables/001_image.jpg\n",
      "http://furniturefromhome.com/images/store/554417/760x600/image.jpg -> /Users/agussman/Documents/DeepLens/deeplens-magiccards/data/tables/001_image.jpg\n",
      "2 http://farm3.static.flickr.com/2299/2058125616_b17f969864.jpg\n",
      "/Users/agussman/Documents/DeepLens/deeplens-magiccards/data/tables/002_2058125616_b17f969864.jpg\n",
      "http://farm3.static.flickr.com/2299/2058125616_b17f969864.jpg -> /Users/agussman/Documents/DeepLens/deeplens-magiccards/data/tables/002_2058125616_b17f969864.jpg\n",
      "3 http://farm3.static.flickr.com/2164/1670651931_26aa1d2437.jpg\n",
      "/Users/agussman/Documents/DeepLens/deeplens-magiccards/data/tables/003_1670651931_26aa1d2437.jpg\n",
      "http://farm3.static.flickr.com/2164/1670651931_26aa1d2437.jpg -> /Users/agussman/Documents/DeepLens/deeplens-magiccards/data/tables/003_1670651931_26aa1d2437.jpg\n",
      "4 http://farm1.static.flickr.com/65/248415410_b9e3ef09c0.jpg\n",
      "/Users/agussman/Documents/DeepLens/deeplens-magiccards/data/tables/004_248415410_b9e3ef09c0.jpg\n",
      "http://farm1.static.flickr.com/65/248415410_b9e3ef09c0.jpg -> /Users/agussman/Documents/DeepLens/deeplens-magiccards/data/tables/004_248415410_b9e3ef09c0.jpg\n",
      "5 http://farm3.static.flickr.com/2364/2123401569_63f19af967.jpg\n",
      "/Users/agussman/Documents/DeepLens/deeplens-magiccards/data/tables/005_2123401569_63f19af967.jpg\n",
      "http://farm3.static.flickr.com/2364/2123401569_63f19af967.jpg -> /Users/agussman/Documents/DeepLens/deeplens-magiccards/data/tables/005_2123401569_63f19af967.jpg\n",
      "6 http://peoplesfurniture.net/images_products/6826_small.jpg\n",
      "/Users/agussman/Documents/DeepLens/deeplens-magiccards/data/tables/006_6826_small.jpg\n",
      "http://peoplesfurniture.net/images_products/6826_small.jpg -> /Users/agussman/Documents/DeepLens/deeplens-magiccards/data/tables/006_6826_small.jpg\n",
      "SKIP: ReadTimeout\n",
      "7 http://farm4.static.flickr.com/3187/2668482159_c5a3ceec4a.jpg\n",
      "/Users/agussman/Documents/DeepLens/deeplens-magiccards/data/tables/007_2668482159_c5a3ceec4a.jpg\n",
      "http://farm4.static.flickr.com/3187/2668482159_c5a3ceec4a.jpg -> /Users/agussman/Documents/DeepLens/deeplens-magiccards/data/tables/007_2668482159_c5a3ceec4a.jpg\n",
      "8 http://farm1.static.flickr.com/65/201877324_13bc309b7c.jpg\n",
      "/Users/agussman/Documents/DeepLens/deeplens-magiccards/data/tables/008_201877324_13bc309b7c.jpg\n",
      "http://farm1.static.flickr.com/65/201877324_13bc309b7c.jpg -> /Users/agussman/Documents/DeepLens/deeplens-magiccards/data/tables/008_201877324_13bc309b7c.jpg\n",
      "9 http://farm1.static.flickr.com/50/145342439_1679fab837.jpg\n",
      "/Users/agussman/Documents/DeepLens/deeplens-magiccards/data/tables/009_145342439_1679fab837.jpg\n",
      "http://farm1.static.flickr.com/50/145342439_1679fab837.jpg -> /Users/agussman/Documents/DeepLens/deeplens-magiccards/data/tables/009_145342439_1679fab837.jpg\n",
      "10 http://farm1.static.flickr.com/21/37485108_bfc282c8db.jpg\n",
      "/Users/agussman/Documents/DeepLens/deeplens-magiccards/data/tables/010_37485108_bfc282c8db.jpg\n",
      "http://farm1.static.flickr.com/21/37485108_bfc282c8db.jpg -> /Users/agussman/Documents/DeepLens/deeplens-magiccards/data/tables/010_37485108_bfc282c8db.jpg\n",
      "11 http://farm1.static.flickr.com/216/502179371_46fb85ea6e.jpg\n",
      "/Users/agussman/Documents/DeepLens/deeplens-magiccards/data/tables/011_502179371_46fb85ea6e.jpg\n",
      "http://farm1.static.flickr.com/216/502179371_46fb85ea6e.jpg -> /Users/agussman/Documents/DeepLens/deeplens-magiccards/data/tables/011_502179371_46fb85ea6e.jpg\n",
      "12 http://farm3.static.flickr.com/2079/2204505750_5c560fbbe2.jpg\n",
      "/Users/agussman/Documents/DeepLens/deeplens-magiccards/data/tables/012_2204505750_5c560fbbe2.jpg\n",
      "http://farm3.static.flickr.com/2079/2204505750_5c560fbbe2.jpg -> /Users/agussman/Documents/DeepLens/deeplens-magiccards/data/tables/012_2204505750_5c560fbbe2.jpg\n",
      "13 http://farm1.static.flickr.com/29/52182212_676a6e6e5a.jpg\n",
      "/Users/agussman/Documents/DeepLens/deeplens-magiccards/data/tables/013_52182212_676a6e6e5a.jpg\n",
      "http://farm1.static.flickr.com/29/52182212_676a6e6e5a.jpg -> /Users/agussman/Documents/DeepLens/deeplens-magiccards/data/tables/013_52182212_676a6e6e5a.jpg\n",
      "14 http://farm3.static.flickr.com/2118/2438796735_a2f4f80661.jpg\n",
      "/Users/agussman/Documents/DeepLens/deeplens-magiccards/data/tables/014_2438796735_a2f4f80661.jpg\n",
      "http://farm3.static.flickr.com/2118/2438796735_a2f4f80661.jpg -> /Users/agussman/Documents/DeepLens/deeplens-magiccards/data/tables/014_2438796735_a2f4f80661.jpg\n",
      "15 http://lh5.ggpht.com/_OYqhjHZyof0/RkdmJibfgHI/AAAAAAAAAUs/L3wbFhRIgFg/100_0943.JPG\n",
      "/Users/agussman/Documents/DeepLens/deeplens-magiccards/data/tables/015_100_0943.JPG\n",
      "http://lh5.ggpht.com/_OYqhjHZyof0/RkdmJibfgHI/AAAAAAAAAUs/L3wbFhRIgFg/100_0943.JPG -> /Users/agussman/Documents/DeepLens/deeplens-magiccards/data/tables/015_100_0943.JPG\n",
      "16 http://www.ezcreditwarehouse.com/599-86DR%20thumb.JPG\n",
      "/Users/agussman/Documents/DeepLens/deeplens-magiccards/data/tables/016_599-86DR%20thumb.JPG\n",
      "http://www.ezcreditwarehouse.com/599-86DR%20thumb.JPG -> /Users/agussman/Documents/DeepLens/deeplens-magiccards/data/tables/016_599-86DR%20thumb.JPG\n",
      "17 http://farm3.static.flickr.com/2178/2393580040_c8a28cf600.jpg\n",
      "/Users/agussman/Documents/DeepLens/deeplens-magiccards/data/tables/017_2393580040_c8a28cf600.jpg\n",
      "http://farm3.static.flickr.com/2178/2393580040_c8a28cf600.jpg -> /Users/agussman/Documents/DeepLens/deeplens-magiccards/data/tables/017_2393580040_c8a28cf600.jpg\n",
      "18 http://farm1.static.flickr.com/146/370690647_7098e00b00.jpg\n",
      "/Users/agussman/Documents/DeepLens/deeplens-magiccards/data/tables/018_370690647_7098e00b00.jpg\n",
      "http://farm1.static.flickr.com/146/370690647_7098e00b00.jpg -> /Users/agussman/Documents/DeepLens/deeplens-magiccards/data/tables/018_370690647_7098e00b00.jpg\n",
      "19 http://farm3.static.flickr.com/2171/1797451670_d984ca715e.jpg\n",
      "/Users/agussman/Documents/DeepLens/deeplens-magiccards/data/tables/019_1797451670_d984ca715e.jpg\n",
      "http://farm3.static.flickr.com/2171/1797451670_d984ca715e.jpg -> /Users/agussman/Documents/DeepLens/deeplens-magiccards/data/tables/019_1797451670_d984ca715e.jpg\n",
      "20 http://www.rachelleb.com/images/2004_03_20/dining_room_table.jpg\n",
      "/Users/agussman/Documents/DeepLens/deeplens-magiccards/data/tables/020_dining_room_table.jpg\n",
      "http://www.rachelleb.com/images/2004_03_20/dining_room_table.jpg -> /Users/agussman/Documents/DeepLens/deeplens-magiccards/data/tables/020_dining_room_table.jpg\n",
      "21 http://farm3.static.flickr.com/2311/2354943011_6daea1b450.jpg\n",
      "/Users/agussman/Documents/DeepLens/deeplens-magiccards/data/tables/021_2354943011_6daea1b450.jpg\n",
      "http://farm3.static.flickr.com/2311/2354943011_6daea1b450.jpg -> /Users/agussman/Documents/DeepLens/deeplens-magiccards/data/tables/021_2354943011_6daea1b450.jpg\n",
      "22 http://images.netshops.com/mgen/digimarc.ms?img=master:SIT089.jpg&h=383&w=383\n",
      "/Users/agussman/Documents/DeepLens/deeplens-magiccards/data/tables/022_digimarc.ms?img=master:SIT089.jpg&h=383&w=383\n",
      "http://images.netshops.com/mgen/digimarc.ms?img=master:SIT089.jpg&h=383&w=383 -> /Users/agussman/Documents/DeepLens/deeplens-magiccards/data/tables/022_digimarc.ms?img=master:SIT089.jpg&h=383&w=383\n",
      "SKIP: ConnectionError\n",
      "23 http://farm4.static.flickr.com/3028/2361971668_d2fe92cf03.jpg\n",
      "/Users/agussman/Documents/DeepLens/deeplens-magiccards/data/tables/023_2361971668_d2fe92cf03.jpg\n",
      "http://farm4.static.flickr.com/3028/2361971668_d2fe92cf03.jpg -> /Users/agussman/Documents/DeepLens/deeplens-magiccards/data/tables/023_2361971668_d2fe92cf03.jpg\n",
      "24 http://farm2.static.flickr.com/1012/1208231325_41a5dcbd5c.jpg\n",
      "/Users/agussman/Documents/DeepLens/deeplens-magiccards/data/tables/024_1208231325_41a5dcbd5c.jpg\n",
      "http://farm2.static.flickr.com/1012/1208231325_41a5dcbd5c.jpg -> /Users/agussman/Documents/DeepLens/deeplens-magiccards/data/tables/024_1208231325_41a5dcbd5c.jpg\n",
      "25 http://farm1.static.flickr.com/105/278130455_8c0bf4b5d4.jpg\n",
      "/Users/agussman/Documents/DeepLens/deeplens-magiccards/data/tables/025_278130455_8c0bf4b5d4.jpg\n",
      "http://farm1.static.flickr.com/105/278130455_8c0bf4b5d4.jpg -> /Users/agussman/Documents/DeepLens/deeplens-magiccards/data/tables/025_278130455_8c0bf4b5d4.jpg\n"
     ]
    },
    {
     "name": "stdout",
     "output_type": "stream",
     "text": [
      "26 http://farm1.static.flickr.com/47/141254418_2c89bcd242.jpg\n",
      "/Users/agussman/Documents/DeepLens/deeplens-magiccards/data/tables/026_141254418_2c89bcd242.jpg\n",
      "http://farm1.static.flickr.com/47/141254418_2c89bcd242.jpg -> /Users/agussman/Documents/DeepLens/deeplens-magiccards/data/tables/026_141254418_2c89bcd242.jpg\n",
      "27 http://www.gowfb.com/images/imagecache/Repertoire-Pedestal-Table-Upholstered-Chairs.jpg\n",
      "/Users/agussman/Documents/DeepLens/deeplens-magiccards/data/tables/027_Repertoire-Pedestal-Table-Upholstered-Chairs.jpg\n",
      "http://www.gowfb.com/images/imagecache/Repertoire-Pedestal-Table-Upholstered-Chairs.jpg -> /Users/agussman/Documents/DeepLens/deeplens-magiccards/data/tables/027_Repertoire-Pedestal-Table-Upholstered-Chairs.jpg\n",
      "SKIP: Problem downloading: 404\n",
      "28 http://farm2.static.flickr.com/1082/1286228285_2ab6688eb8.jpg\n",
      "/Users/agussman/Documents/DeepLens/deeplens-magiccards/data/tables/028_1286228285_2ab6688eb8.jpg\n",
      "http://farm2.static.flickr.com/1082/1286228285_2ab6688eb8.jpg -> /Users/agussman/Documents/DeepLens/deeplens-magiccards/data/tables/028_1286228285_2ab6688eb8.jpg\n",
      "29 http://images.interactivefurniture.com/images/jpeg/sm00503312005094133HAN.jpg\n",
      "/Users/agussman/Documents/DeepLens/deeplens-magiccards/data/tables/029_sm00503312005094133HAN.jpg\n",
      "http://images.interactivefurniture.com/images/jpeg/sm00503312005094133HAN.jpg -> /Users/agussman/Documents/DeepLens/deeplens-magiccards/data/tables/029_sm00503312005094133HAN.jpg\n",
      "SKIP: ConnectionError\n",
      "30 http://farm1.static.flickr.com/183/408924943_579b292e49.jpg\n",
      "/Users/agussman/Documents/DeepLens/deeplens-magiccards/data/tables/030_408924943_579b292e49.jpg\n",
      "http://farm1.static.flickr.com/183/408924943_579b292e49.jpg -> /Users/agussman/Documents/DeepLens/deeplens-magiccards/data/tables/030_408924943_579b292e49.jpg\n",
      "31 http://www.feldmanfurniture.com/pthumbs/%7bF9C977F1-3D59-41A0-A4CB-D75482779284%7d.jpg\n",
      "/Users/agussman/Documents/DeepLens/deeplens-magiccards/data/tables/031_%7bF9C977F1-3D59-41A0-A4CB-D75482779284%7d.jpg\n",
      "http://www.feldmanfurniture.com/pthumbs/%7bF9C977F1-3D59-41A0-A4CB-D75482779284%7d.jpg -> /Users/agussman/Documents/DeepLens/deeplens-magiccards/data/tables/031_%7bF9C977F1-3D59-41A0-A4CB-D75482779284%7d.jpg\n",
      "SKIP: Problem downloading: 404\n",
      "32 http://farm4.static.flickr.com/3086/2622933776_8e48b64667.jpg\n",
      "/Users/agussman/Documents/DeepLens/deeplens-magiccards/data/tables/032_2622933776_8e48b64667.jpg\n",
      "http://farm4.static.flickr.com/3086/2622933776_8e48b64667.jpg -> /Users/agussman/Documents/DeepLens/deeplens-magiccards/data/tables/032_2622933776_8e48b64667.jpg\n",
      "33 http://farm1.static.flickr.com/118/304626380_ee95629c64.jpg\n",
      "/Users/agussman/Documents/DeepLens/deeplens-magiccards/data/tables/033_304626380_ee95629c64.jpg\n",
      "http://farm1.static.flickr.com/118/304626380_ee95629c64.jpg -> /Users/agussman/Documents/DeepLens/deeplens-magiccards/data/tables/033_304626380_ee95629c64.jpg\n",
      "34 http://farm1.static.flickr.com/137/325280958_9630ad80b0.jpg\n",
      "/Users/agussman/Documents/DeepLens/deeplens-magiccards/data/tables/034_325280958_9630ad80b0.jpg\n",
      "http://farm1.static.flickr.com/137/325280958_9630ad80b0.jpg -> /Users/agussman/Documents/DeepLens/deeplens-magiccards/data/tables/034_325280958_9630ad80b0.jpg\n",
      "35 http://farm1.static.flickr.com/146/346142476_f1a6cbc943.jpg\n",
      "/Users/agussman/Documents/DeepLens/deeplens-magiccards/data/tables/035_346142476_f1a6cbc943.jpg\n",
      "http://farm1.static.flickr.com/146/346142476_f1a6cbc943.jpg -> /Users/agussman/Documents/DeepLens/deeplens-magiccards/data/tables/035_346142476_f1a6cbc943.jpg\n",
      "36 http://farm2.static.flickr.com/1007/1474849803_d586fbbda9.jpg\n",
      "/Users/agussman/Documents/DeepLens/deeplens-magiccards/data/tables/036_1474849803_d586fbbda9.jpg\n",
      "http://farm2.static.flickr.com/1007/1474849803_d586fbbda9.jpg -> /Users/agussman/Documents/DeepLens/deeplens-magiccards/data/tables/036_1474849803_d586fbbda9.jpg\n",
      "SKIP: ConnectionError\n",
      "37 http://farm1.static.flickr.com/27/91084741_8fadecf868.jpg\n",
      "/Users/agussman/Documents/DeepLens/deeplens-magiccards/data/tables/037_91084741_8fadecf868.jpg\n",
      "http://farm1.static.flickr.com/27/91084741_8fadecf868.jpg -> /Users/agussman/Documents/DeepLens/deeplens-magiccards/data/tables/037_91084741_8fadecf868.jpg\n",
      "38 http://furniturefromhome.com/images/store/40760_glasgow_ct_ht_table_curio_china_gd/280x260/image.jpg\n",
      "/Users/agussman/Documents/DeepLens/deeplens-magiccards/data/tables/038_image.jpg\n",
      "http://furniturefromhome.com/images/store/40760_glasgow_ct_ht_table_curio_china_gd/280x260/image.jpg -> /Users/agussman/Documents/DeepLens/deeplens-magiccards/data/tables/038_image.jpg\n",
      "39 http://farm4.static.flickr.com/3238/2514527174_10564d581a.jpg\n",
      "/Users/agussman/Documents/DeepLens/deeplens-magiccards/data/tables/039_2514527174_10564d581a.jpg\n",
      "http://farm4.static.flickr.com/3238/2514527174_10564d581a.jpg -> /Users/agussman/Documents/DeepLens/deeplens-magiccards/data/tables/039_2514527174_10564d581a.jpg\n",
      "40 http://farm2.static.flickr.com/1290/1360957074_3226d11c4c.jpg\n",
      "/Users/agussman/Documents/DeepLens/deeplens-magiccards/data/tables/040_1360957074_3226d11c4c.jpg\n",
      "http://farm2.static.flickr.com/1290/1360957074_3226d11c4c.jpg -> /Users/agussman/Documents/DeepLens/deeplens-magiccards/data/tables/040_1360957074_3226d11c4c.jpg\n",
      "41 http://farm3.static.flickr.com/2009/2370556688_7b314342b0.jpg\n",
      "/Users/agussman/Documents/DeepLens/deeplens-magiccards/data/tables/041_2370556688_7b314342b0.jpg\n",
      "http://farm3.static.flickr.com/2009/2370556688_7b314342b0.jpg -> /Users/agussman/Documents/DeepLens/deeplens-magiccards/data/tables/041_2370556688_7b314342b0.jpg\n",
      "42 http://www.cupboardlove.com/pics/dining/table/coral_sand.jpg\n",
      "/Users/agussman/Documents/DeepLens/deeplens-magiccards/data/tables/042_coral_sand.jpg\n",
      "http://www.cupboardlove.com/pics/dining/table/coral_sand.jpg -> /Users/agussman/Documents/DeepLens/deeplens-magiccards/data/tables/042_coral_sand.jpg\n",
      "43 http://www.gowfb.ca/images/imagecache/Bayside-Dining.1168936299.jpg\n",
      "/Users/agussman/Documents/DeepLens/deeplens-magiccards/data/tables/043_Bayside-Dining.1168936299.jpg\n",
      "http://www.gowfb.ca/images/imagecache/Bayside-Dining.1168936299.jpg -> /Users/agussman/Documents/DeepLens/deeplens-magiccards/data/tables/043_Bayside-Dining.1168936299.jpg\n",
      "SKIP: Problem downloading: 404\n",
      "44 http://farm1.static.flickr.com/98/257023845_81fe65e6de.jpg\n",
      "/Users/agussman/Documents/DeepLens/deeplens-magiccards/data/tables/044_257023845_81fe65e6de.jpg\n",
      "http://farm1.static.flickr.com/98/257023845_81fe65e6de.jpg -> /Users/agussman/Documents/DeepLens/deeplens-magiccards/data/tables/044_257023845_81fe65e6de.jpg\n",
      "45 http://www.designhousefurniture.net/Furniture/Furniture/Diningroomtable.jpg\n",
      "/Users/agussman/Documents/DeepLens/deeplens-magiccards/data/tables/045_Diningroomtable.jpg\n",
      "http://www.designhousefurniture.net/Furniture/Furniture/Diningroomtable.jpg -> /Users/agussman/Documents/DeepLens/deeplens-magiccards/data/tables/045_Diningroomtable.jpg\n",
      "SKIP: Problem downloading: 404\n",
      "46 http://farm1.static.flickr.com/20/70975059_d59a4c2c6a.jpg\n",
      "/Users/agussman/Documents/DeepLens/deeplens-magiccards/data/tables/046_70975059_d59a4c2c6a.jpg\n",
      "http://farm1.static.flickr.com/20/70975059_d59a4c2c6a.jpg -> /Users/agussman/Documents/DeepLens/deeplens-magiccards/data/tables/046_70975059_d59a4c2c6a.jpg\n",
      "47 http://farm3.static.flickr.com/2297/2343917517_800df557c5.jpg\n",
      "/Users/agussman/Documents/DeepLens/deeplens-magiccards/data/tables/047_2343917517_800df557c5.jpg\n",
      "http://farm3.static.flickr.com/2297/2343917517_800df557c5.jpg -> /Users/agussman/Documents/DeepLens/deeplens-magiccards/data/tables/047_2343917517_800df557c5.jpg\n",
      "48 http://farm3.static.flickr.com/2056/2539303860_6009594af4.jpg\n",
      "/Users/agussman/Documents/DeepLens/deeplens-magiccards/data/tables/048_2539303860_6009594af4.jpg\n",
      "http://farm3.static.flickr.com/2056/2539303860_6009594af4.jpg -> /Users/agussman/Documents/DeepLens/deeplens-magiccards/data/tables/048_2539303860_6009594af4.jpg\n",
      "49 http://www.executivevillas4florida.com/images/buying/furniture_dining_room_6.jpg\n",
      "/Users/agussman/Documents/DeepLens/deeplens-magiccards/data/tables/049_furniture_dining_room_6.jpg\n",
      "http://www.executivevillas4florida.com/images/buying/furniture_dining_room_6.jpg -> /Users/agussman/Documents/DeepLens/deeplens-magiccards/data/tables/049_furniture_dining_room_6.jpg\n"
     ]
    },
    {
     "name": "stdout",
     "output_type": "stream",
     "text": [
      "SKIP: ConnectionError\n",
      "50 http://farm3.static.flickr.com/2404/2461862083_aa1655221a.jpg\n",
      "/Users/agussman/Documents/DeepLens/deeplens-magiccards/data/tables/050_2461862083_aa1655221a.jpg\n",
      "http://farm3.static.flickr.com/2404/2461862083_aa1655221a.jpg -> /Users/agussman/Documents/DeepLens/deeplens-magiccards/data/tables/050_2461862083_aa1655221a.jpg\n",
      "51 http://farm4.static.flickr.com/3141/2574206280_779d6b918b.jpg\n",
      "/Users/agussman/Documents/DeepLens/deeplens-magiccards/data/tables/051_2574206280_779d6b918b.jpg\n",
      "http://farm4.static.flickr.com/3141/2574206280_779d6b918b.jpg -> /Users/agussman/Documents/DeepLens/deeplens-magiccards/data/tables/051_2574206280_779d6b918b.jpg\n",
      "52 http://farm1.static.flickr.com/187/410163434_47b1653bf4.jpg\n",
      "/Users/agussman/Documents/DeepLens/deeplens-magiccards/data/tables/052_410163434_47b1653bf4.jpg\n",
      "http://farm1.static.flickr.com/187/410163434_47b1653bf4.jpg -> /Users/agussman/Documents/DeepLens/deeplens-magiccards/data/tables/052_410163434_47b1653bf4.jpg\n",
      "53 http://farm2.static.flickr.com/1278/1397202961_97570aa814.jpg\n",
      "/Users/agussman/Documents/DeepLens/deeplens-magiccards/data/tables/053_1397202961_97570aa814.jpg\n",
      "http://farm2.static.flickr.com/1278/1397202961_97570aa814.jpg -> /Users/agussman/Documents/DeepLens/deeplens-magiccards/data/tables/053_1397202961_97570aa814.jpg\n",
      "54 http://farm2.static.flickr.com/1265/1356636416_4e70f603dd.jpg\n",
      "/Users/agussman/Documents/DeepLens/deeplens-magiccards/data/tables/054_1356636416_4e70f603dd.jpg\n",
      "http://farm2.static.flickr.com/1265/1356636416_4e70f603dd.jpg -> /Users/agussman/Documents/DeepLens/deeplens-magiccards/data/tables/054_1356636416_4e70f603dd.jpg\n",
      "55 http://farm4.static.flickr.com/3162/2415411986_1e9d914e73.jpg\n",
      "/Users/agussman/Documents/DeepLens/deeplens-magiccards/data/tables/055_2415411986_1e9d914e73.jpg\n",
      "http://farm4.static.flickr.com/3162/2415411986_1e9d914e73.jpg -> /Users/agussman/Documents/DeepLens/deeplens-magiccards/data/tables/055_2415411986_1e9d914e73.jpg\n",
      "56 http://farm1.static.flickr.com/119/297039510_b8cbfbd8b5.jpg\n",
      "/Users/agussman/Documents/DeepLens/deeplens-magiccards/data/tables/056_297039510_b8cbfbd8b5.jpg\n",
      "http://farm1.static.flickr.com/119/297039510_b8cbfbd8b5.jpg -> /Users/agussman/Documents/DeepLens/deeplens-magiccards/data/tables/056_297039510_b8cbfbd8b5.jpg\n",
      "57 http://farm1.static.flickr.com/55/190890941_eef53001dd.jpg\n",
      "/Users/agussman/Documents/DeepLens/deeplens-magiccards/data/tables/057_190890941_eef53001dd.jpg\n",
      "http://farm1.static.flickr.com/55/190890941_eef53001dd.jpg -> /Users/agussman/Documents/DeepLens/deeplens-magiccards/data/tables/057_190890941_eef53001dd.jpg\n",
      "58 http://farm3.static.flickr.com/2024/1951805583_f5c3797420.jpg\n",
      "/Users/agussman/Documents/DeepLens/deeplens-magiccards/data/tables/058_1951805583_f5c3797420.jpg\n",
      "http://farm3.static.flickr.com/2024/1951805583_f5c3797420.jpg -> /Users/agussman/Documents/DeepLens/deeplens-magiccards/data/tables/058_1951805583_f5c3797420.jpg\n",
      "59 http://farm1.static.flickr.com/198/458798666_00a047178d.jpg\n",
      "/Users/agussman/Documents/DeepLens/deeplens-magiccards/data/tables/059_458798666_00a047178d.jpg\n",
      "http://farm1.static.flickr.com/198/458798666_00a047178d.jpg -> /Users/agussman/Documents/DeepLens/deeplens-magiccards/data/tables/059_458798666_00a047178d.jpg\n",
      "60 http://furniturefromhome.com/images/store/bayberry_round_dining_-_cherry/760x600/image.jpg\n",
      "/Users/agussman/Documents/DeepLens/deeplens-magiccards/data/tables/060_image.jpg\n",
      "http://furniturefromhome.com/images/store/bayberry_round_dining_-_cherry/760x600/image.jpg -> /Users/agussman/Documents/DeepLens/deeplens-magiccards/data/tables/060_image.jpg\n",
      "61 http://farm1.static.flickr.com/41/87466731_3106f4bc2a.jpg\n",
      "/Users/agussman/Documents/DeepLens/deeplens-magiccards/data/tables/061_87466731_3106f4bc2a.jpg\n",
      "http://farm1.static.flickr.com/41/87466731_3106f4bc2a.jpg -> /Users/agussman/Documents/DeepLens/deeplens-magiccards/data/tables/061_87466731_3106f4bc2a.jpg\n",
      "62 http://www.camposfurniture.com/images/dnrms/dining_1a.jpg\n",
      "/Users/agussman/Documents/DeepLens/deeplens-magiccards/data/tables/062_dining_1a.jpg\n",
      "http://www.camposfurniture.com/images/dnrms/dining_1a.jpg -> /Users/agussman/Documents/DeepLens/deeplens-magiccards/data/tables/062_dining_1a.jpg\n",
      "SKIP: Problem downloading: 404\n",
      "63 http://farm1.static.flickr.com/35/66665237_b40fbbee63.jpg\n",
      "/Users/agussman/Documents/DeepLens/deeplens-magiccards/data/tables/063_66665237_b40fbbee63.jpg\n",
      "http://farm1.static.flickr.com/35/66665237_b40fbbee63.jpg -> /Users/agussman/Documents/DeepLens/deeplens-magiccards/data/tables/063_66665237_b40fbbee63.jpg\n",
      "SKIP: ConnectionError\n",
      "64 http://www.gowfb.ca/images/imagecache/Collage%20-%20Dining%20Set%20with%20Server%20and%20Mirror.jpg\n",
      "/Users/agussman/Documents/DeepLens/deeplens-magiccards/data/tables/064_Collage%20-%20Dining%20Set%20with%20Server%20and%20Mirror.jpg\n",
      "http://www.gowfb.ca/images/imagecache/Collage%20-%20Dining%20Set%20with%20Server%20and%20Mirror.jpg -> /Users/agussman/Documents/DeepLens/deeplens-magiccards/data/tables/064_Collage%20-%20Dining%20Set%20with%20Server%20and%20Mirror.jpg\n",
      "SKIP: ConnectionError\n",
      "65 http://www.floridasads.com/photos/class/thumb190/1212530228tab.jpg\n",
      "/Users/agussman/Documents/DeepLens/deeplens-magiccards/data/tables/065_1212530228tab.jpg\n",
      "http://www.floridasads.com/photos/class/thumb190/1212530228tab.jpg -> /Users/agussman/Documents/DeepLens/deeplens-magiccards/data/tables/065_1212530228tab.jpg\n",
      "66 http://farm1.static.flickr.com/26/53466572_7dc09fb12b.jpg\n",
      "/Users/agussman/Documents/DeepLens/deeplens-magiccards/data/tables/066_53466572_7dc09fb12b.jpg\n",
      "http://farm1.static.flickr.com/26/53466572_7dc09fb12b.jpg -> /Users/agussman/Documents/DeepLens/deeplens-magiccards/data/tables/066_53466572_7dc09fb12b.jpg\n",
      "SKIP: ConnectionError\n",
      "67 http://lh3.ggpht.com/_Rj8ZhzDt630/RlmGM7uqTNI/AAAAAAAAAGs/OlKHL5QNBzw/CHRISTMAS+208.jpg\n",
      "/Users/agussman/Documents/DeepLens/deeplens-magiccards/data/tables/067_CHRISTMAS+208.jpg\n",
      "http://lh3.ggpht.com/_Rj8ZhzDt630/RlmGM7uqTNI/AAAAAAAAAGs/OlKHL5QNBzw/CHRISTMAS+208.jpg -> /Users/agussman/Documents/DeepLens/deeplens-magiccards/data/tables/067_CHRISTMAS+208.jpg\n",
      "68 http://www.dargate.com/222_auction/222images/1140.jpg\n",
      "/Users/agussman/Documents/DeepLens/deeplens-magiccards/data/tables/068_1140.jpg\n",
      "http://www.dargate.com/222_auction/222images/1140.jpg -> /Users/agussman/Documents/DeepLens/deeplens-magiccards/data/tables/068_1140.jpg\n",
      "SKIP: Problem downloading: 404\n",
      "69 http://farm3.static.flickr.com/2375/2111123936_1119b66c5f.jpg\n",
      "/Users/agussman/Documents/DeepLens/deeplens-magiccards/data/tables/069_2111123936_1119b66c5f.jpg\n",
      "http://farm3.static.flickr.com/2375/2111123936_1119b66c5f.jpg -> /Users/agussman/Documents/DeepLens/deeplens-magiccards/data/tables/069_2111123936_1119b66c5f.jpg\n",
      "SKIP: ConnectionError\n",
      "70 http://farm1.static.flickr.com/111/295942346_dcb0e72e80.jpg\n",
      "/Users/agussman/Documents/DeepLens/deeplens-magiccards/data/tables/070_295942346_dcb0e72e80.jpg\n",
      "http://farm1.static.flickr.com/111/295942346_dcb0e72e80.jpg -> /Users/agussman/Documents/DeepLens/deeplens-magiccards/data/tables/070_295942346_dcb0e72e80.jpg\n",
      "SKIP: ConnectionError\n",
      "71 http://farm1.static.flickr.com/83/231187440_e886fc9a8c.jpg\n",
      "/Users/agussman/Documents/DeepLens/deeplens-magiccards/data/tables/071_231187440_e886fc9a8c.jpg\n",
      "http://farm1.static.flickr.com/83/231187440_e886fc9a8c.jpg -> /Users/agussman/Documents/DeepLens/deeplens-magiccards/data/tables/071_231187440_e886fc9a8c.jpg\n",
      "SKIP: ConnectionError\n",
      "72 http://www.amishfurniturewisconsin.com/images/attictreasures2.jpg\n",
      "/Users/agussman/Documents/DeepLens/deeplens-magiccards/data/tables/072_attictreasures2.jpg\n",
      "http://www.amishfurniturewisconsin.com/images/attictreasures2.jpg -> /Users/agussman/Documents/DeepLens/deeplens-magiccards/data/tables/072_attictreasures2.jpg\n",
      "SKIP: ConnectionError\n",
      "73 http://www.bluebaycrete.com/furnitureimages/diningroom/05ioannatableandchairs.JPG\n",
      "/Users/agussman/Documents/DeepLens/deeplens-magiccards/data/tables/073_05ioannatableandchairs.JPG\n",
      "http://www.bluebaycrete.com/furnitureimages/diningroom/05ioannatableandchairs.JPG -> /Users/agussman/Documents/DeepLens/deeplens-magiccards/data/tables/073_05ioannatableandchairs.JPG\n",
      "SKIP: ConnectionError\n",
      "74 http://farm1.static.flickr.com/9/12685675_4ddee78547.jpg\n",
      "/Users/agussman/Documents/DeepLens/deeplens-magiccards/data/tables/074_12685675_4ddee78547.jpg\n",
      "http://farm1.static.flickr.com/9/12685675_4ddee78547.jpg -> /Users/agussman/Documents/DeepLens/deeplens-magiccards/data/tables/074_12685675_4ddee78547.jpg\n"
     ]
    },
    {
     "name": "stdout",
     "output_type": "stream",
     "text": [
      "75 http://www.avetexfurniture.com/file.asp?ID=1133&table=Goods&number=2\n",
      "/Users/agussman/Documents/DeepLens/deeplens-magiccards/data/tables/075_file.asp?ID=1133&table=Goods&number=2\n",
      "http://www.avetexfurniture.com/file.asp?ID=1133&table=Goods&number=2 -> /Users/agussman/Documents/DeepLens/deeplens-magiccards/data/tables/075_file.asp?ID=1133&table=Goods&number=2\n",
      "SKIP: ConnectionError\n",
      "76 http://www.dapperdecor.com/store/p_furniture_7.jpg\n",
      "/Users/agussman/Documents/DeepLens/deeplens-magiccards/data/tables/076_p_furniture_7.jpg\n",
      "http://www.dapperdecor.com/store/p_furniture_7.jpg -> /Users/agussman/Documents/DeepLens/deeplens-magiccards/data/tables/076_p_furniture_7.jpg\n",
      "77 http://www.letmom.com/choose/furniture/images/efr/hill-gd-table-1.jpg\n",
      "/Users/agussman/Documents/DeepLens/deeplens-magiccards/data/tables/077_hill-gd-table-1.jpg\n",
      "http://www.letmom.com/choose/furniture/images/efr/hill-gd-table-1.jpg -> /Users/agussman/Documents/DeepLens/deeplens-magiccards/data/tables/077_hill-gd-table-1.jpg\n",
      "SKIP: Problem downloading: 404\n",
      "78 http://www.proglobal.co.uk/images/WTSSL472_Height_Adjustable_Table_m.jpg\n",
      "/Users/agussman/Documents/DeepLens/deeplens-magiccards/data/tables/078_WTSSL472_Height_Adjustable_Table_m.jpg\n",
      "http://www.proglobal.co.uk/images/WTSSL472_Height_Adjustable_Table_m.jpg -> /Users/agussman/Documents/DeepLens/deeplens-magiccards/data/tables/078_WTSSL472_Height_Adjustable_Table_m.jpg\n",
      "SKIP: Problem downloading: 404\n",
      "79 http://farm3.static.flickr.com/2038/2163946805_345edd721c.jpg\n",
      "/Users/agussman/Documents/DeepLens/deeplens-magiccards/data/tables/079_2163946805_345edd721c.jpg\n",
      "http://farm3.static.flickr.com/2038/2163946805_345edd721c.jpg -> /Users/agussman/Documents/DeepLens/deeplens-magiccards/data/tables/079_2163946805_345edd721c.jpg\n",
      "80 http://farm3.static.flickr.com/2158/1546668863_864e55e4e5.jpg\n",
      "/Users/agussman/Documents/DeepLens/deeplens-magiccards/data/tables/080_1546668863_864e55e4e5.jpg\n",
      "http://farm3.static.flickr.com/2158/1546668863_864e55e4e5.jpg -> /Users/agussman/Documents/DeepLens/deeplens-magiccards/data/tables/080_1546668863_864e55e4e5.jpg\n",
      "81 http://www.crystalpalacebb.com/ezstatic/data/crystalpalacebb/images/dining-room.jpg\n",
      "/Users/agussman/Documents/DeepLens/deeplens-magiccards/data/tables/081_dining-room.jpg\n",
      "http://www.crystalpalacebb.com/ezstatic/data/crystalpalacebb/images/dining-room.jpg -> /Users/agussman/Documents/DeepLens/deeplens-magiccards/data/tables/081_dining-room.jpg\n",
      "SKIP: ReadTimeout\n",
      "82 http://www.leesinclair.co.uk/table_window.jpg\n",
      "/Users/agussman/Documents/DeepLens/deeplens-magiccards/data/tables/082_table_window.jpg\n",
      "http://www.leesinclair.co.uk/table_window.jpg -> /Users/agussman/Documents/DeepLens/deeplens-magiccards/data/tables/082_table_window.jpg\n",
      "SKIP: Problem downloading: 404\n",
      "83 http://farm1.static.flickr.com/150/397848610_cadf782206.jpg\n",
      "/Users/agussman/Documents/DeepLens/deeplens-magiccards/data/tables/083_397848610_cadf782206.jpg\n",
      "http://farm1.static.flickr.com/150/397848610_cadf782206.jpg -> /Users/agussman/Documents/DeepLens/deeplens-magiccards/data/tables/083_397848610_cadf782206.jpg\n",
      "84 http://farm2.static.flickr.com/1384/929251290_9fc16fb11b.jpg\n",
      "/Users/agussman/Documents/DeepLens/deeplens-magiccards/data/tables/084_929251290_9fc16fb11b.jpg\n",
      "http://farm2.static.flickr.com/1384/929251290_9fc16fb11b.jpg -> /Users/agussman/Documents/DeepLens/deeplens-magiccards/data/tables/084_929251290_9fc16fb11b.jpg\n",
      "85 http://www.furnitureontheweb.com/images/Furniture/stjr4486tk.jpg\n",
      "/Users/agussman/Documents/DeepLens/deeplens-magiccards/data/tables/085_stjr4486tk.jpg\n",
      "http://www.furnitureontheweb.com/images/Furniture/stjr4486tk.jpg -> /Users/agussman/Documents/DeepLens/deeplens-magiccards/data/tables/085_stjr4486tk.jpg\n",
      "SKIP: ConnectionError\n",
      "86 http://farm1.static.flickr.com/59/203482798_8eb57cda22.jpg\n",
      "/Users/agussman/Documents/DeepLens/deeplens-magiccards/data/tables/086_203482798_8eb57cda22.jpg\n",
      "http://farm1.static.flickr.com/59/203482798_8eb57cda22.jpg -> /Users/agussman/Documents/DeepLens/deeplens-magiccards/data/tables/086_203482798_8eb57cda22.jpg\n",
      "87 http://farm3.static.flickr.com/2347/2149988483_20767388d0.jpg\n",
      "/Users/agussman/Documents/DeepLens/deeplens-magiccards/data/tables/087_2149988483_20767388d0.jpg\n",
      "http://farm3.static.flickr.com/2347/2149988483_20767388d0.jpg -> /Users/agussman/Documents/DeepLens/deeplens-magiccards/data/tables/087_2149988483_20767388d0.jpg\n",
      "88 http://furniturefromhome.com/images/store/milan_dining/760x600/image.jpg\n",
      "/Users/agussman/Documents/DeepLens/deeplens-magiccards/data/tables/088_image.jpg\n",
      "http://furniturefromhome.com/images/store/milan_dining/760x600/image.jpg -> /Users/agussman/Documents/DeepLens/deeplens-magiccards/data/tables/088_image.jpg\n",
      "89 http://farm3.static.flickr.com/2109/2070411830_053e7d3854.jpg\n",
      "/Users/agussman/Documents/DeepLens/deeplens-magiccards/data/tables/089_2070411830_053e7d3854.jpg\n",
      "http://farm3.static.flickr.com/2109/2070411830_053e7d3854.jpg -> /Users/agussman/Documents/DeepLens/deeplens-magiccards/data/tables/089_2070411830_053e7d3854.jpg\n"
     ]
    }
   ],
   "source": [
    "for num, table_url in enumerate(file_urls[10:100]):\n",
    "    print(num, table_url)\n",
    "    time.sleep(0.25)\n",
    "    filename = \"{num:003d}_{original}\".format(num=num, original=os.path.basename(table_url))\n",
    "    filename = os.path.join(OUTDIR, 'tables', filename)\n",
    "    print(filename)\n",
    "    print(\"{} -> {}\".format(table_url, filename))\n",
    "    \n",
    "    try:\n",
    "        r = requests.get(table_url, stream=True, timeout=1)\n",
    "        if r.status_code == 200:\n",
    "            with open(filename, 'wb') as fd:\n",
    "                for chunk in r.iter_content(chunk_size=128):\n",
    "                    fd.write(chunk)\n",
    "        else:\n",
    "            print(\"SKIP: Problem downloading: {}\".format(r.status_code))\n",
    "    except TooManyRedirects:\n",
    "        print(\"SKIP: TooManyRedirects\")\n",
    "    except ReadTimeout:\n",
    "        print(\"SKIP: ReadTimeout\")\n",
    "    except ConnectionError:\n",
    "        print(\"SKIP: ConnectionError\")\n",
    "    \n"
   ]
  },
  {
   "cell_type": "code",
   "execution_count": null,
   "metadata": {},
   "outputs": [],
   "source": []
  },
  {
   "cell_type": "code",
   "execution_count": null,
   "metadata": {},
   "outputs": [],
   "source": []
  },
  {
   "cell_type": "code",
   "execution_count": null,
   "metadata": {},
   "outputs": [],
   "source": []
  },
  {
   "cell_type": "code",
   "execution_count": null,
   "metadata": {},
   "outputs": [],
   "source": []
  },
  {
   "cell_type": "code",
   "execution_count": null,
   "metadata": {},
   "outputs": [],
   "source": []
  },
  {
   "cell_type": "code",
   "execution_count": null,
   "metadata": {},
   "outputs": [],
   "source": []
  },
  {
   "cell_type": "code",
   "execution_count": 64,
   "metadata": {},
   "outputs": [
    {
     "name": "stdout",
     "output_type": "stream",
     "text": [
      "0 http://www.american-furniture-warehouse.com/images/Furniture/stsk4872t.jpg stsk4872t.jpg\n",
      "1 http://farm3.static.flickr.com/2094/2156394956_636a8e82b7.jpg 2156394956_636a8e82b7.jpg\n",
      "2 http://farm1.static.flickr.com/119/255091104_0110d3fb49.jpg 255091104_0110d3fb49.jpg\n",
      "3 http://farm1.static.flickr.com/183/424762396_89fdd67fae.jpg 424762396_89fdd67fae.jpg\n",
      "4 http://farm4.static.flickr.com/3064/2701347106_5072432f52.jpg 2701347106_5072432f52.jpg\n",
      "5 http://resaleauctions.com/furniture/diningtable.JPG diningtable.JPG\n",
      "6 http://farm1.static.flickr.com/19/97833898_b311b6e9cc.jpg 97833898_b311b6e9cc.jpg\n",
      "7 http://farm4.static.flickr.com/3065/2343394045_bd561e7ab1.jpg 2343394045_bd561e7ab1.jpg\n",
      "8 http://farm2.static.flickr.com/1093/1423281989_ef0907f396.jpg 1423281989_ef0907f396.jpg\n",
      "9 http://farm2.static.flickr.com/1085/1481438320_7df49bd11c.jpg 1481438320_7df49bd11c.jpg\n"
     ]
    }
   ],
   "source": [
    "import os\n",
    "for num, table_url in enumerate(r.text.splitlines()[:10]):\n",
    "    print(num, table_url, os.path.basename(table_url))"
   ]
  },
  {
   "cell_type": "code",
   "execution_count": null,
   "metadata": {},
   "outputs": [],
   "source": []
  },
  {
   "cell_type": "code",
   "execution_count": null,
   "metadata": {},
   "outputs": [],
   "source": []
  },
  {
   "cell_type": "code",
   "execution_count": null,
   "metadata": {},
   "outputs": [],
   "source": []
  },
  {
   "cell_type": "code",
   "execution_count": null,
   "metadata": {},
   "outputs": [],
   "source": []
  },
  {
   "cell_type": "code",
   "execution_count": null,
   "metadata": {},
   "outputs": [],
   "source": []
  },
  {
   "cell_type": "code",
   "execution_count": null,
   "metadata": {},
   "outputs": [],
   "source": []
  },
  {
   "cell_type": "code",
   "execution_count": null,
   "metadata": {},
   "outputs": [],
   "source": []
  },
  {
   "cell_type": "code",
   "execution_count": null,
   "metadata": {},
   "outputs": [],
   "source": []
  },
  {
   "cell_type": "code",
   "execution_count": null,
   "metadata": {},
   "outputs": [],
   "source": []
  },
  {
   "cell_type": "code",
   "execution_count": null,
   "metadata": {},
   "outputs": [],
   "source": []
  },
  {
   "cell_type": "code",
   "execution_count": null,
   "metadata": {},
   "outputs": [],
   "source": []
  },
  {
   "cell_type": "code",
   "execution_count": null,
   "metadata": {},
   "outputs": [],
   "source": []
  },
  {
   "cell_type": "code",
   "execution_count": null,
   "metadata": {},
   "outputs": [],
   "source": []
  },
  {
   "cell_type": "code",
   "execution_count": null,
   "metadata": {},
   "outputs": [],
   "source": []
  },
  {
   "cell_type": "code",
   "execution_count": null,
   "metadata": {},
   "outputs": [],
   "source": []
  },
  {
   "cell_type": "code",
   "execution_count": null,
   "metadata": {},
   "outputs": [],
   "source": []
  },
  {
   "cell_type": "code",
   "execution_count": null,
   "metadata": {},
   "outputs": [],
   "source": []
  },
  {
   "cell_type": "code",
   "execution_count": null,
   "metadata": {},
   "outputs": [],
   "source": []
  },
  {
   "cell_type": "code",
   "execution_count": null,
   "metadata": {},
   "outputs": [],
   "source": []
  },
  {
   "cell_type": "code",
   "execution_count": null,
   "metadata": {},
   "outputs": [],
   "source": []
  },
  {
   "cell_type": "code",
   "execution_count": null,
   "metadata": {},
   "outputs": [],
   "source": []
  },
  {
   "cell_type": "code",
   "execution_count": null,
   "metadata": {},
   "outputs": [],
   "source": []
  },
  {
   "cell_type": "code",
   "execution_count": null,
   "metadata": {},
   "outputs": [],
   "source": []
  },
  {
   "cell_type": "code",
   "execution_count": null,
   "metadata": {},
   "outputs": [],
   "source": []
  },
  {
   "cell_type": "code",
   "execution_count": null,
   "metadata": {},
   "outputs": [],
   "source": []
  },
  {
   "cell_type": "code",
   "execution_count": null,
   "metadata": {},
   "outputs": [],
   "source": []
  },
  {
   "cell_type": "code",
   "execution_count": null,
   "metadata": {},
   "outputs": [],
   "source": []
  },
  {
   "cell_type": "code",
   "execution_count": null,
   "metadata": {},
   "outputs": [],
   "source": []
  },
  {
   "cell_type": "code",
   "execution_count": null,
   "metadata": {},
   "outputs": [],
   "source": []
  },
  {
   "cell_type": "code",
   "execution_count": null,
   "metadata": {},
   "outputs": [],
   "source": []
  },
  {
   "cell_type": "code",
   "execution_count": null,
   "metadata": {},
   "outputs": [],
   "source": []
  },
  {
   "cell_type": "code",
   "execution_count": null,
   "metadata": {},
   "outputs": [],
   "source": []
  },
  {
   "cell_type": "code",
   "execution_count": null,
   "metadata": {},
   "outputs": [],
   "source": []
  },
  {
   "cell_type": "code",
   "execution_count": null,
   "metadata": {},
   "outputs": [],
   "source": []
  },
  {
   "cell_type": "code",
   "execution_count": null,
   "metadata": {},
   "outputs": [],
   "source": []
  },
  {
   "cell_type": "code",
   "execution_count": null,
   "metadata": {},
   "outputs": [],
   "source": []
  },
  {
   "cell_type": "code",
   "execution_count": null,
   "metadata": {},
   "outputs": [],
   "source": []
  },
  {
   "cell_type": "code",
   "execution_count": null,
   "metadata": {},
   "outputs": [],
   "source": []
  },
  {
   "cell_type": "code",
   "execution_count": null,
   "metadata": {},
   "outputs": [],
   "source": []
  },
  {
   "cell_type": "code",
   "execution_count": null,
   "metadata": {},
   "outputs": [],
   "source": []
  },
  {
   "cell_type": "code",
   "execution_count": null,
   "metadata": {},
   "outputs": [],
   "source": []
  },
  {
   "cell_type": "code",
   "execution_count": null,
   "metadata": {},
   "outputs": [],
   "source": []
  },
  {
   "cell_type": "code",
   "execution_count": null,
   "metadata": {},
   "outputs": [],
   "source": []
  },
  {
   "cell_type": "code",
   "execution_count": null,
   "metadata": {},
   "outputs": [],
   "source": []
  },
  {
   "cell_type": "code",
   "execution_count": null,
   "metadata": {},
   "outputs": [],
   "source": []
  },
  {
   "cell_type": "code",
   "execution_count": null,
   "metadata": {},
   "outputs": [],
   "source": []
  },
  {
   "cell_type": "code",
   "execution_count": null,
   "metadata": {},
   "outputs": [],
   "source": []
  },
  {
   "cell_type": "code",
   "execution_count": null,
   "metadata": {},
   "outputs": [],
   "source": []
  },
  {
   "cell_type": "code",
   "execution_count": null,
   "metadata": {},
   "outputs": [],
   "source": []
  },
  {
   "cell_type": "code",
   "execution_count": null,
   "metadata": {},
   "outputs": [],
   "source": []
  },
  {
   "cell_type": "code",
   "execution_count": null,
   "metadata": {},
   "outputs": [],
   "source": []
  },
  {
   "cell_type": "code",
   "execution_count": null,
   "metadata": {},
   "outputs": [],
   "source": []
  },
  {
   "cell_type": "code",
   "execution_count": null,
   "metadata": {},
   "outputs": [],
   "source": []
  },
  {
   "cell_type": "code",
   "execution_count": null,
   "metadata": {},
   "outputs": [],
   "source": []
  },
  {
   "cell_type": "code",
   "execution_count": null,
   "metadata": {},
   "outputs": [],
   "source": []
  },
  {
   "cell_type": "code",
   "execution_count": 4,
   "metadata": {},
   "outputs": [
    {
     "name": "stdout",
     "output_type": "stream",
     "text": [
      "Type the name of the set: dom\n"
     ]
    },
    {
     "ename": "RuntimeError",
     "evalue": "Cannot run the event loop while another loop is running",
     "output_type": "error",
     "traceback": [
      "\u001b[0;31m---------------------------------------------------------------------------\u001b[0m",
      "\u001b[0;31mRuntimeError\u001b[0m                              Traceback (most recent call last)",
      "\u001b[0;32m<ipython-input-4-2c6fff2eb8fb>\u001b[0m in \u001b[0;36m<module>\u001b[0;34m()\u001b[0m\n\u001b[1;32m      4\u001b[0m \u001b[0;34m\u001b[0m\u001b[0m\n\u001b[1;32m      5\u001b[0m \u001b[0mtime\u001b[0m\u001b[0;34m.\u001b[0m\u001b[0msleep\u001b[0m\u001b[0;34m(\u001b[0m\u001b[0;36m0.05\u001b[0m\u001b[0;34m)\u001b[0m\u001b[0;34m\u001b[0m\u001b[0m\n\u001b[0;32m----> 6\u001b[0;31m \u001b[0msets\u001b[0m \u001b[0;34m=\u001b[0m \u001b[0mscrython\u001b[0m\u001b[0;34m.\u001b[0m\u001b[0msets\u001b[0m\u001b[0;34m.\u001b[0m\u001b[0mSets\u001b[0m\u001b[0;34m(\u001b[0m\u001b[0;34m)\u001b[0m\u001b[0;34m\u001b[0m\u001b[0m\n\u001b[0m\u001b[1;32m      7\u001b[0m \u001b[0;34m\u001b[0m\u001b[0m\n\u001b[1;32m      8\u001b[0m \u001b[0;32mfor\u001b[0m \u001b[0mi\u001b[0m \u001b[0;32min\u001b[0m \u001b[0mrange\u001b[0m\u001b[0;34m(\u001b[0m\u001b[0msets\u001b[0m\u001b[0;34m.\u001b[0m\u001b[0mdata_length\u001b[0m\u001b[0;34m(\u001b[0m\u001b[0;34m)\u001b[0m\u001b[0;34m)\u001b[0m\u001b[0;34m:\u001b[0m\u001b[0;34m\u001b[0m\u001b[0m\n",
      "\u001b[0;32m~/.virtualenvs/deeplens-magiccards/lib/python3.6/site-packages/scrython/sets/sets.py\u001b[0m in \u001b[0;36m__init__\u001b[0;34m(self)\u001b[0m\n\u001b[1;32m     40\u001b[0m     \u001b[0;32mdef\u001b[0m \u001b[0m__init__\u001b[0m\u001b[0;34m(\u001b[0m\u001b[0mself\u001b[0m\u001b[0;34m)\u001b[0m\u001b[0;34m:\u001b[0m\u001b[0;34m\u001b[0m\u001b[0m\n\u001b[1;32m     41\u001b[0m         \u001b[0mself\u001b[0m\u001b[0;34m.\u001b[0m\u001b[0m_url\u001b[0m \u001b[0;34m=\u001b[0m \u001b[0;34m'sets?'\u001b[0m\u001b[0;34m\u001b[0m\u001b[0m\n\u001b[0;32m---> 42\u001b[0;31m         \u001b[0msuper\u001b[0m\u001b[0;34m(\u001b[0m\u001b[0mSets\u001b[0m\u001b[0;34m,\u001b[0m \u001b[0mself\u001b[0m\u001b[0;34m)\u001b[0m\u001b[0;34m.\u001b[0m\u001b[0m__init__\u001b[0m\u001b[0;34m(\u001b[0m\u001b[0mself\u001b[0m\u001b[0;34m.\u001b[0m\u001b[0m_url\u001b[0m\u001b[0;34m)\u001b[0m\u001b[0;34m\u001b[0m\u001b[0m\n\u001b[0m\u001b[1;32m     43\u001b[0m \u001b[0;34m\u001b[0m\u001b[0m\n\u001b[1;32m     44\u001b[0m     \u001b[0;32mdef\u001b[0m \u001b[0mobject\u001b[0m\u001b[0;34m(\u001b[0m\u001b[0mself\u001b[0m\u001b[0;34m)\u001b[0m\u001b[0;34m:\u001b[0m\u001b[0;34m\u001b[0m\u001b[0m\n",
      "\u001b[0;32m~/.virtualenvs/deeplens-magiccards/lib/python3.6/site-packages/scrython/sets/sets_object.py\u001b[0m in \u001b[0;36m__init__\u001b[0;34m(self, _url, **kwargs)\u001b[0m\n\u001b[1;32m     51\u001b[0m \u001b[0;34m\u001b[0m\u001b[0m\n\u001b[1;32m     52\u001b[0m                 \u001b[0mt\u001b[0m \u001b[0;34m=\u001b[0m \u001b[0mThread\u001b[0m\u001b[0;34m(\u001b[0m\u001b[0mtarget\u001b[0m\u001b[0;34m=\u001b[0m\u001b[0mdo_everything\u001b[0m\u001b[0;34m)\u001b[0m\u001b[0;34m\u001b[0m\u001b[0m\n\u001b[0;32m---> 53\u001b[0;31m                 \u001b[0mt\u001b[0m\u001b[0;34m.\u001b[0m\u001b[0mrun\u001b[0m\u001b[0;34m(\u001b[0m\u001b[0;34m)\u001b[0m\u001b[0;34m\u001b[0m\u001b[0m\n\u001b[0m\u001b[1;32m     54\u001b[0m \u001b[0;34m\u001b[0m\u001b[0m\n\u001b[1;32m     55\u001b[0m                 \u001b[0;32mif\u001b[0m \u001b[0mself\u001b[0m\u001b[0;34m.\u001b[0m\u001b[0mscryfallJson\u001b[0m\u001b[0;34m[\u001b[0m\u001b[0;34m'object'\u001b[0m\u001b[0;34m]\u001b[0m \u001b[0;34m==\u001b[0m \u001b[0;34m'error'\u001b[0m\u001b[0;34m:\u001b[0m\u001b[0;34m\u001b[0m\u001b[0m\n",
      "\u001b[0;32m/usr/local/Cellar/python/3.6.4_3/Frameworks/Python.framework/Versions/3.6/lib/python3.6/threading.py\u001b[0m in \u001b[0;36mrun\u001b[0;34m(self)\u001b[0m\n\u001b[1;32m    862\u001b[0m         \u001b[0;32mtry\u001b[0m\u001b[0;34m:\u001b[0m\u001b[0;34m\u001b[0m\u001b[0m\n\u001b[1;32m    863\u001b[0m             \u001b[0;32mif\u001b[0m \u001b[0mself\u001b[0m\u001b[0;34m.\u001b[0m\u001b[0m_target\u001b[0m\u001b[0;34m:\u001b[0m\u001b[0;34m\u001b[0m\u001b[0m\n\u001b[0;32m--> 864\u001b[0;31m                 \u001b[0mself\u001b[0m\u001b[0;34m.\u001b[0m\u001b[0m_target\u001b[0m\u001b[0;34m(\u001b[0m\u001b[0;34m*\u001b[0m\u001b[0mself\u001b[0m\u001b[0;34m.\u001b[0m\u001b[0m_args\u001b[0m\u001b[0;34m,\u001b[0m \u001b[0;34m**\u001b[0m\u001b[0mself\u001b[0m\u001b[0;34m.\u001b[0m\u001b[0m_kwargs\u001b[0m\u001b[0;34m)\u001b[0m\u001b[0;34m\u001b[0m\u001b[0m\n\u001b[0m\u001b[1;32m    865\u001b[0m         \u001b[0;32mfinally\u001b[0m\u001b[0;34m:\u001b[0m\u001b[0;34m\u001b[0m\u001b[0m\n\u001b[1;32m    866\u001b[0m             \u001b[0;31m# Avoid a refcycle if the thread is running a function with\u001b[0m\u001b[0;34m\u001b[0m\u001b[0;34m\u001b[0m\u001b[0m\n",
      "\u001b[0;32m~/.virtualenvs/deeplens-magiccards/lib/python3.6/site-packages/scrython/sets/sets_object.py\u001b[0m in \u001b[0;36mdo_everything\u001b[0;34m()\u001b[0m\n\u001b[1;32m     48\u001b[0m                         \u001b[0mloop\u001b[0m \u001b[0;34m=\u001b[0m \u001b[0masyncio\u001b[0m\u001b[0;34m.\u001b[0m\u001b[0mnew_event_loop\u001b[0m\u001b[0;34m(\u001b[0m\u001b[0;34m)\u001b[0m\u001b[0;34m\u001b[0m\u001b[0m\n\u001b[1;32m     49\u001b[0m                         \u001b[0masyncio\u001b[0m\u001b[0;34m.\u001b[0m\u001b[0mset_event_loop\u001b[0m\u001b[0;34m(\u001b[0m\u001b[0mloop\u001b[0m\u001b[0;34m)\u001b[0m\u001b[0;34m\u001b[0m\u001b[0m\n\u001b[0;32m---> 50\u001b[0;31m                         \u001b[0mloop\u001b[0m\u001b[0;34m.\u001b[0m\u001b[0mrun_until_complete\u001b[0m\u001b[0;34m(\u001b[0m\u001b[0mmain\u001b[0m\u001b[0;34m(\u001b[0m\u001b[0mloop\u001b[0m\u001b[0;34m)\u001b[0m\u001b[0;34m)\u001b[0m\u001b[0;34m\u001b[0m\u001b[0m\n\u001b[0m\u001b[1;32m     51\u001b[0m \u001b[0;34m\u001b[0m\u001b[0m\n\u001b[1;32m     52\u001b[0m                 \u001b[0mt\u001b[0m \u001b[0;34m=\u001b[0m \u001b[0mThread\u001b[0m\u001b[0;34m(\u001b[0m\u001b[0mtarget\u001b[0m\u001b[0;34m=\u001b[0m\u001b[0mdo_everything\u001b[0m\u001b[0;34m)\u001b[0m\u001b[0;34m\u001b[0m\u001b[0m\n",
      "\u001b[0;32m/usr/local/Cellar/python/3.6.4_3/Frameworks/Python.framework/Versions/3.6/lib/python3.6/asyncio/base_events.py\u001b[0m in \u001b[0;36mrun_until_complete\u001b[0;34m(self, future)\u001b[0m\n\u001b[1;32m    452\u001b[0m         \u001b[0mfuture\u001b[0m\u001b[0;34m.\u001b[0m\u001b[0madd_done_callback\u001b[0m\u001b[0;34m(\u001b[0m\u001b[0m_run_until_complete_cb\u001b[0m\u001b[0;34m)\u001b[0m\u001b[0;34m\u001b[0m\u001b[0m\n\u001b[1;32m    453\u001b[0m         \u001b[0;32mtry\u001b[0m\u001b[0;34m:\u001b[0m\u001b[0;34m\u001b[0m\u001b[0m\n\u001b[0;32m--> 454\u001b[0;31m             \u001b[0mself\u001b[0m\u001b[0;34m.\u001b[0m\u001b[0mrun_forever\u001b[0m\u001b[0;34m(\u001b[0m\u001b[0;34m)\u001b[0m\u001b[0;34m\u001b[0m\u001b[0m\n\u001b[0m\u001b[1;32m    455\u001b[0m         \u001b[0;32mexcept\u001b[0m\u001b[0;34m:\u001b[0m\u001b[0;34m\u001b[0m\u001b[0m\n\u001b[1;32m    456\u001b[0m             \u001b[0;32mif\u001b[0m \u001b[0mnew_task\u001b[0m \u001b[0;32mand\u001b[0m \u001b[0mfuture\u001b[0m\u001b[0;34m.\u001b[0m\u001b[0mdone\u001b[0m\u001b[0;34m(\u001b[0m\u001b[0;34m)\u001b[0m \u001b[0;32mand\u001b[0m \u001b[0;32mnot\u001b[0m \u001b[0mfuture\u001b[0m\u001b[0;34m.\u001b[0m\u001b[0mcancelled\u001b[0m\u001b[0;34m(\u001b[0m\u001b[0;34m)\u001b[0m\u001b[0;34m:\u001b[0m\u001b[0;34m\u001b[0m\u001b[0m\n",
      "\u001b[0;32m/usr/local/Cellar/python/3.6.4_3/Frameworks/Python.framework/Versions/3.6/lib/python3.6/asyncio/base_events.py\u001b[0m in \u001b[0;36mrun_forever\u001b[0;34m(self)\u001b[0m\n\u001b[1;32m    409\u001b[0m         \u001b[0;32mif\u001b[0m \u001b[0mevents\u001b[0m\u001b[0;34m.\u001b[0m\u001b[0m_get_running_loop\u001b[0m\u001b[0;34m(\u001b[0m\u001b[0;34m)\u001b[0m \u001b[0;32mis\u001b[0m \u001b[0;32mnot\u001b[0m \u001b[0;32mNone\u001b[0m\u001b[0;34m:\u001b[0m\u001b[0;34m\u001b[0m\u001b[0m\n\u001b[1;32m    410\u001b[0m             raise RuntimeError(\n\u001b[0;32m--> 411\u001b[0;31m                 'Cannot run the event loop while another loop is running')\n\u001b[0m\u001b[1;32m    412\u001b[0m         \u001b[0mself\u001b[0m\u001b[0;34m.\u001b[0m\u001b[0m_set_coroutine_wrapper\u001b[0m\u001b[0;34m(\u001b[0m\u001b[0mself\u001b[0m\u001b[0;34m.\u001b[0m\u001b[0m_debug\u001b[0m\u001b[0;34m)\u001b[0m\u001b[0;34m\u001b[0m\u001b[0m\n\u001b[1;32m    413\u001b[0m         \u001b[0mself\u001b[0m\u001b[0;34m.\u001b[0m\u001b[0m_thread_id\u001b[0m \u001b[0;34m=\u001b[0m \u001b[0mthreading\u001b[0m\u001b[0;34m.\u001b[0m\u001b[0mget_ident\u001b[0m\u001b[0;34m(\u001b[0m\u001b[0;34m)\u001b[0m\u001b[0;34m\u001b[0m\u001b[0m\n",
      "\u001b[0;31mRuntimeError\u001b[0m: Cannot run the event loop while another loop is running"
     ]
    }
   ],
   "source": [
    "import time\n",
    "\n",
    "query = input(\"Type the name of the set: \")\n",
    "\n",
    "time.sleep(0.05)\n",
    "sets = scrython.sets.Sets()\n",
    "\n",
    "for i in range(sets.data_length()):\n",
    "    if sets.set_name(i) == query:\n",
    "        print(\"Set code:\", sets.set_code(i).upper())\n",
    "        break\n",
    "    else:\n",
    "        continue"
   ]
  },
  {
   "cell_type": "code",
   "execution_count": null,
   "metadata": {
    "collapsed": true
   },
   "outputs": [],
   "source": []
  }
 ],
 "metadata": {
  "anaconda-cloud": {},
  "kernelspec": {
   "display_name": "Python 3",
   "language": "python",
   "name": "python3"
  },
  "language_info": {
   "codemirror_mode": {
    "name": "ipython",
    "version": 3
   },
   "file_extension": ".py",
   "mimetype": "text/x-python",
   "name": "python",
   "nbconvert_exporter": "python",
   "pygments_lexer": "ipython3",
   "version": "3.6.4"
  }
 },
 "nbformat": 4,
 "nbformat_minor": 1
}
